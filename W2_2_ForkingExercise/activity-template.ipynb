{
 "cells": [
  {
   "cell_type": "markdown",
   "id": "efebc62f",
   "metadata": {},
   "source": [
    "# Forking Exercise:\n",
    "\n",
    "Save this file with a new name and complete the template. \n",
    "\n",
    "## Things to Include\n",
    "\n",
    "Write down the name of an environmental issue you care about and include some additional description. \n",
    "\n",
    "Try to include the following. \n",
    "\n",
    "1. A bulleted list\n",
    "2. Some bold text\n",
    "3. A heading\n",
    "4. A hyperlink\n",
    "5. An Image \n",
    "\n",
    "[A Guide To Markdown](https://www.earthdatascience.org/courses/intro-to-earth-data-science/file-formats/use-text-files/format-text-with-markdown-jupyter-notebook/)\n",
    "\n"
   ]
  },
  {
   "cell_type": "code",
   "execution_count": null,
   "id": "e805867d",
   "metadata": {},
   "outputs": [],
   "source": []
  }
 ],
 "metadata": {
  "kernelspec": {
   "display_name": "Python 3",
   "language": "python",
   "name": "python3"
  },
  "language_info": {
   "codemirror_mode": {
    "name": "ipython",
    "version": 3
   },
   "file_extension": ".py",
   "mimetype": "text/x-python",
   "name": "python",
   "nbconvert_exporter": "python",
   "pygments_lexer": "ipython3",
   "version": "3.8.8"
  }
 },
 "nbformat": 4,
 "nbformat_minor": 5
}
