{
 "cells": [
  {
   "cell_type": "markdown",
   "id": "d0a6233d",
   "metadata": {},
   "source": [
    "[![Open In Colab](https://colab.research.google.com/assets/colab-badge.svg)](https://colab.research.google.com/github/ISAT-DrG/ISAT420_Code/blob/main/code/W2_3_JupyterNotebookDemonstration.ipynb)"
   ]
  },
  {
   "cell_type": "markdown",
   "id": "69e855c1",
   "metadata": {},
   "source": [
    "# Jupyter Notebook Example\n",
    "\n",
    "I am using this notebook to demonstrate a possible workflow and to demonstrate the capabilities. \n",
    "\n",
    "I am not expecting you to know and remember all these commands, that comes later in the semester. \n",
    "\n",
    "**Learning Goals**\n",
    "\n",
    "- Understand that notebooks allow for good working practices and reproducible code\n",
    "- Experience some of the capabilities including\n",
    "    - coding\n",
    "    - annotating your work\n",
    "    - making figures "
   ]
  },
  {
   "cell_type": "markdown",
   "id": "a7f0905c",
   "metadata": {},
   "source": [
    "## A Standard Workflow\n",
    "\n",
    "We typically begin with loading the python libaries that we need. \n",
    "\n",
    "In this case we need **pandas**, which is a library to organize data in tabular format and **matplotlib** to help with the visualization. "
   ]
  },
  {
   "cell_type": "code",
   "execution_count": null,
   "id": "3527a5d0",
   "metadata": {},
   "outputs": [],
   "source": [
    "import pandas as pd\n",
    "import matplotlib.pyplot as plt"
   ]
  },
  {
   "cell_type": "markdown",
   "id": "8332770f",
   "metadata": {},
   "source": [
    "## Read In Your Data \n",
    "\n",
    "Pandas can ready many different data formats, including Excel. I am telling pandas here to read me the data from the Exel file into a dataframe variabl called `df`. Because the Excel file contains more than one sheet and I only want the data, I am telling pandas exactly what to read. "
   ]
  },
  {
   "cell_type": "code",
   "execution_count": null,
   "id": "a0537aae",
   "metadata": {},
   "outputs": [],
   "source": [
    "df = pd.read_excel('../data/Global_Carbon_Budget_2023v1.0.xlsx',\n",
    "                   sheet_name='Global Carbon Budget',\n",
    "                   skiprows=21, index_col= 'Year', \n",
    "                  usecols = 'A:H')"
   ]
  },
  {
   "cell_type": "markdown",
   "id": "98966dc6",
   "metadata": {},
   "source": [
    "We an confirm that we were able to read the data. "
   ]
  },
  {
   "cell_type": "code",
   "execution_count": null,
   "id": "289c9d35",
   "metadata": {},
   "outputs": [],
   "source": [
    "df"
   ]
  },
  {
   "cell_type": "markdown",
   "id": "9b93bb5c",
   "metadata": {},
   "source": [
    "I can look at individual columns by their name, like this:"
   ]
  },
  {
   "cell_type": "code",
   "execution_count": null,
   "id": "7168a2c4",
   "metadata": {},
   "outputs": [],
   "source": [
    "df['fossil emissions excluding carbonation']"
   ]
  },
  {
   "cell_type": "markdown",
   "id": "679b5ba5",
   "metadata": {},
   "source": [
    "I can look at rows using the index, which I selected to be the `Year` column in the spread-sheet. This is done, by specifiying the location using the `.loc[]` method. "
   ]
  },
  {
   "cell_type": "code",
   "execution_count": null,
   "id": "52c5f2e1",
   "metadata": {},
   "outputs": [],
   "source": [
    "df.loc[1960:1970]"
   ]
  },
  {
   "cell_type": "markdown",
   "id": "9a17bb5b",
   "metadata": {},
   "source": [
    "# Doing Calculations\n",
    "\n",
    "After reading the data, can use it for any purpose. In our case, we want to visualize the balance with sources and sinks.\n",
    "\n",
    "Let's assume that sources are positive and sinks are negative. \n",
    "This means, I have to turn all sinks *ocean sink*, *land-sink*, *atmosphere* into negative numbers.  \n",
    "\n",
    "I am resaving them into my dataframe like this:"
   ]
  },
  {
   "cell_type": "code",
   "execution_count": null,
   "id": "cb104dc8",
   "metadata": {},
   "outputs": [],
   "source": [
    "df['ocean sink']=df['ocean sink']*-1\n",
    "df['land sink']=df['land sink']*-1\n",
    "df['atmospheric growth']=df['atmospheric growth']*-1\n",
    "\n",
    "df.head() # head displays the first few rows"
   ]
  },
  {
   "cell_type": "markdown",
   "id": "adc752a1",
   "metadata": {},
   "source": [
    "# Visualization & Communication\n",
    "\n",
    "Lastly, I can plot my data. \n",
    "\n",
    "What I am doing here is a bit complicated, but in essence I am making two plots. One for sources and one for sinks. \n",
    "\n",
    "I could spend lots of time to make this much closer to the original if I wanted to by \n",
    "\n",
    "1. moving panels together\n",
    "2. changing colors\n",
    "3. changing legends\n",
    "4. ... "
   ]
  },
  {
   "cell_type": "code",
   "execution_count": null,
   "id": "af5e48cc",
   "metadata": {},
   "outputs": [],
   "source": [
    "fig, ax = plt.subplots(2,1,figsize=(10, 6))\n",
    "\n",
    "df[['fossil emissions excluding carbonation','land-use change emissions']].plot.area(\n",
    "    stacked=True,ax=ax[0], ylabel='Gt/y', xlabel = 'Year (1959-2022)')\n",
    "df[['ocean sink','land sink','atmospheric growth']].plot.area(\n",
    "    stacked=True,ax=ax[1], ylabel='Gt/y', xlabel = 'Year (1959-2022)')\n"
   ]
  },
  {
   "cell_type": "markdown",
   "id": "2ca09302",
   "metadata": {},
   "source": [
    "**One important note: I never change the data in the Excel sheet. All data analysis was done in the copy**\n",
    "\n",
    "**As a general rule: NEVER overwrite your raw data!**"
   ]
  },
  {
   "cell_type": "code",
   "execution_count": null,
   "id": "44c25c53",
   "metadata": {},
   "outputs": [],
   "source": []
  }
 ],
 "metadata": {
  "kernelspec": {
   "display_name": "Python 3 (ipykernel)",
   "language": "python",
   "name": "python3"
  },
  "language_info": {
   "codemirror_mode": {
    "name": "ipython",
    "version": 3
   },
   "file_extension": ".py",
   "mimetype": "text/x-python",
   "name": "python",
   "nbconvert_exporter": "python",
   "pygments_lexer": "ipython3",
   "version": "3.9.12"
  }
 },
 "nbformat": 4,
 "nbformat_minor": 5
}
